{
 "cells": [
  {
   "cell_type": "markdown",
   "metadata": {},
   "source": [
    "# 22. 딕셔너리와 튜플보다는 헬퍼 클래스로 관리하자"
   ]
  },
  {
   "cell_type": "markdown",
   "metadata": {},
   "source": [
    "- 파이썬 내장 딕셔너리 type : 객체의 수명이 지속되는 동안 __동적인__ 내부상태를 관리하는 용도로 좋음.\n",
    "- __동적__ : 예상하지 못한 식별자들을 관리 해야 하는 상황\n",
    "- 어떤 학생 집단의 성적을 기록해 보자. 학생별로 미리 정의 된 속성을 사용하지 않고 딕셔너리에 이름을 저장하는(key) 클래스를 정의"
   ]
  },
  {
   "cell_type": "code",
   "execution_count": 10,
   "metadata": {},
   "outputs": [],
   "source": [
    "class SimpleGradebook(object):\n",
    "    def __init__(self):\n",
    "        self._grades = {}    # 객체생성시 성적 기록을 위한 딕셔너리를 담는다\n",
    "    \n",
    "    def add_student(self, name):\n",
    "        self._grades[name] = []    # 처음 이름입력시에 이름을 키캆으로 점수를 담을 리스트를 생성\n",
    "    \n",
    "    def report_grades(self, name, score):\n",
    "        self._grades[name].append(score)    # 해당 학생 이름에 점수를 기입해 주면 딕셔너리 키 값에 있는 리스트에 점수를 append해줌\n",
    "        \n",
    "    def average_grade(self, name):\n",
    "        grades = self._grades[name]    # 함수 호출시 해당 딕셔너리 이름안에 점수의 평균을 return\n",
    "        return sum(grades)/len(grades)"
   ]
  },
  {
   "cell_type": "markdown",
   "metadata": {},
   "source": [
    "사용방법"
   ]
  },
  {
   "cell_type": "code",
   "execution_count": 11,
   "metadata": {
    "collapsed": true
   },
   "outputs": [
    {
     "ename": "AttributeError",
     "evalue": "'SimpleGradebook' object has no attribute 'report_grade'",
     "output_type": "error",
     "traceback": [
      "\u001b[0;31m---------------------------------------------------------------------------\u001b[0m",
      "\u001b[0;31mAttributeError\u001b[0m                            Traceback (most recent call last)",
      "\u001b[0;32m<ipython-input-11-654705501341>\u001b[0m in \u001b[0;36m<module>\u001b[0;34m()\u001b[0m\n\u001b[1;32m      1\u001b[0m \u001b[0mbook\u001b[0m \u001b[0;34m=\u001b[0m \u001b[0mSimpleGradebook\u001b[0m\u001b[0;34m(\u001b[0m\u001b[0;34m)\u001b[0m\u001b[0;34m\u001b[0m\u001b[0m\n\u001b[1;32m      2\u001b[0m \u001b[0mbook\u001b[0m\u001b[0;34m.\u001b[0m\u001b[0madd_student\u001b[0m\u001b[0;34m(\u001b[0m\u001b[0;34m'Sangho'\u001b[0m\u001b[0;34m)\u001b[0m\u001b[0;34m\u001b[0m\u001b[0m\n\u001b[0;32m----> 3\u001b[0;31m \u001b[0mbook\u001b[0m\u001b[0;34m.\u001b[0m\u001b[0mreport_grade\u001b[0m\u001b[0;34m(\u001b[0m\u001b[0;34m'Sangho'\u001b[0m\u001b[0;34m,\u001b[0m \u001b[0;36m28\u001b[0m\u001b[0;34m)\u001b[0m\u001b[0;34m\u001b[0m\u001b[0m\n\u001b[0m\u001b[1;32m      4\u001b[0m \u001b[0mprint\u001b[0m\u001b[0;34m(\u001b[0m\u001b[0mbook\u001b[0m\u001b[0;34m.\u001b[0m\u001b[0maverage_grade\u001b[0m\u001b[0;34m(\u001b[0m\u001b[0;34m'Sangho'\u001b[0m\u001b[0;34m)\u001b[0m\u001b[0;34m)\u001b[0m\u001b[0;34m\u001b[0m\u001b[0m\n",
      "\u001b[0;31mAttributeError\u001b[0m: 'SimpleGradebook' object has no attribute 'report_grade'"
     ]
    }
   ],
   "source": [
    "book = SimpleGradebook()\n",
    "book.add_student('Sangho')\n",
    "book.report_grade('Sangho', 28)\n",
    "print(book.average_grade('Sangho'))"
   ]
  },
  {
   "cell_type": "markdown",
   "metadata": {},
   "source": [
    " "
   ]
  },
  {
   "cell_type": "markdown",
   "metadata": {},
   "source": [
    "### 좀 더 나아가 과목별 점수도 추가하고 싶다 -> 어떤 구조를 써야할까?\n",
    " - 딕셔너리 키값 안에 다시 딕셔너리를 구성하여 key:과목이름 / values:점수로 매핑한다.\n",
    " - __이중 딕서너리 구조__ : {'이름1': {'과목명1':'성적1','성적2', '과목명2':'성적1','성적2'}, '이름2':...}"
   ]
  },
  {
   "cell_type": "code",
   "execution_count": 12,
   "metadata": {},
   "outputs": [],
   "source": [
    "class BySubjectGradebook(object):\n",
    "    def __init__(self):\n",
    "        self._grades = {}    \n",
    "        \n",
    "    def add_student(self, name):\n",
    "        self._grades[name] = {}    # 이름 딕셔너리 안에 성적별 점수를 담을 딕서너리 생성\n",
    "        \n",
    "    def report_grade(self, name, subject, grade):    # 이중 딕서너리 구조라 처리가 약간 복잡해짐\n",
    "        by_subject = self._grades[name]\n",
    "        grade_list = by_subject.setdefault(subject, [])   # setdefault : get과 비슷, dict에 key가 없으면 빈리스트를 반환\n",
    "        grade_list.append(grade)\n",
    "    \n",
    "    def average_grade(self, name):\n",
    "        by_subject = self._grades[name]    # 과목별 평균이 아니라 토탈 평균\n",
    "        total, count = 0, 0\n",
    "        for grades in by_subject.values():\n",
    "            total += sum(grades)\n",
    "            count += len(grades)\n",
    "        return float(total / count)"
   ]
  },
  {
   "cell_type": "markdown",
   "metadata": {},
   "source": [
    "사용 방법"
   ]
  },
  {
   "cell_type": "code",
   "execution_count": 13,
   "metadata": {},
   "outputs": [],
   "source": [
    "book = BySubjectGradebook()\n",
    "book.add_student('Sangho')\n",
    "book.report_grade('Sangho', 'Math', 90)\n",
    "book.report_grade('Sangho', 'Math', 90)\n",
    "book.report_grade('Sangho', 'Gym', 100)\n",
    "book.report_grade('Sangho', 'Gym', 80)"
   ]
  },
  {
   "cell_type": "code",
   "execution_count": 14,
   "metadata": {},
   "outputs": [
    {
     "name": "stdout",
     "output_type": "stream",
     "text": [
      "90.0\n"
     ]
    }
   ],
   "source": [
    "print(book.average_grade('Sangho'))"
   ]
  },
  {
   "cell_type": "markdown",
   "metadata": {},
   "source": [
    "### 중간고사 보다 기말고사 비중을 높게 만드려면 어떻게 해야 할까?\n",
    "- 내부 딕셔너리를 과목(키), 성적(값)에 매핑하지 않고, 성적과 비중을 담은 튜플에 매핑"
   ]
  },
  {
   "cell_type": "code",
   "execution_count": 17,
   "metadata": {
    "collapsed": true
   },
   "outputs": [
    {
     "ename": "IndentationError",
     "evalue": "expected an indented block (<ipython-input-17-c375b8b9c443>, line 21)",
     "output_type": "error",
     "traceback": [
      "\u001b[0;36m  File \u001b[0;32m\"<ipython-input-17-c375b8b9c443>\"\u001b[0;36m, line \u001b[0;32m21\u001b[0m\n\u001b[0;31m    return (score_sum/score_count)\u001b[0m\n\u001b[0m    ^\u001b[0m\n\u001b[0;31mIndentationError\u001b[0m\u001b[0;31m:\u001b[0m expected an indented block\n"
     ]
    }
   ],
   "source": [
    "class WeightedGradebook(object):\n",
    "    \n",
    "    def __init__(self):\n",
    "        self._grades = {}\n",
    "        \n",
    "    def add_student(self, name):\n",
    "        self._grades[name] = {}\n",
    "        \n",
    "    def report_gragde(self, name, subject, score, weight):\n",
    "        by_subject = self_grades[name]\n",
    "        grage_list = by_subject.setdefault(subject, [])\n",
    "        grage_list.append((score, weight))    # 리스트 안에 단순한 값을 담는게 아니라 튜플 구조를 담는다.\n",
    "        \n",
    "    def average_grade(self, name):\n",
    "        by_subject = self._grades[name]\n",
    "        score_sum, score_count = 0, 0\n",
    "        for subject, score in by_subject.items():\n",
    "            subject_avg, total_weight = 0,0\n",
    "            for score, weight in scores:    # 평균을 구할때 이중 루프가 생겨 이해가 어려운 코드가 됨\n",
    "                #...\n",
    "        return (score_sum/score_count)"
   ]
  },
  {
   "cell_type": "markdown",
   "metadata": {},
   "source": [
    "사용방법도 어려워 짐 -> 위치 인수 안에 있는 숫자들의 의미도 불 명확"
   ]
  },
  {
   "cell_type": "code",
   "execution_count": null,
   "metadata": {},
   "outputs": [],
   "source": [
    "book.report_grade('Sangho', 'Math', 80, 0.1)"
   ]
  },
  {
   "cell_type": "markdown",
   "metadata": {},
   "source": [
    " "
   ]
  },
  {
   "cell_type": "markdown",
   "metadata": {},
   "source": [
    "### 이렇게 복잡해질 경우 딕셔너리와 튜플대신 -> 클래스 계층 구조를 사용하자"
   ]
  },
  {
   "cell_type": "markdown",
   "metadata": {},
   "source": [
    "- 처음만 해도 복잡한 헬퍼 클래스를 쓸 필요가 없었으나 계층이 증가할 수록 구조는 복잡해 진다.\n",
    "- 계층이 한 단계가 넘어가는 중첩은 피해라(딕셔너리 안에 딕셔너리는 피해라)\n",
    "- 인터페이스와 실제 구현 사이에 추상화 계층을 만들수 있다."
   ]
  },
  {
   "cell_type": "markdown",
   "metadata": {},
   "source": [
    " "
   ]
  },
  {
   "cell_type": "markdown",
   "metadata": {},
   "source": [
    "## 클래스 리팩토링"
   ]
  },
  {
   "cell_type": "markdown",
   "metadata": {},
   "source": [
    "제일 안쪽 성적부터 옮기기 -> 클래스는 무겁다(튜플로)"
   ]
  },
  {
   "cell_type": "code",
   "execution_count": null,
   "metadata": {},
   "outputs": [],
   "source": [
    "grades = []\n",
    "grades.append([90, 0.45])\n",
    "# ...\n",
    "total = sum(score * weight for score, weight in grades)\n",
    "total_weight = sum(weight for _, weight in grades)\n",
    "average_grade = total / total_weight"
   ]
  },
  {
   "cell_type": "markdown",
   "metadata": {},
   "source": [
    " "
   ]
  },
  {
   "cell_type": "markdown",
   "metadata": {},
   "source": [
    "더 많은 정보가 있을 수도 있으니 좀 더 유연하게 구조를 짠다."
   ]
  },
  {
   "cell_type": "code",
   "execution_count": null,
   "metadata": {},
   "outputs": [],
   "source": [
    "grades = []\n",
    "grades.append([90, 0.45, 'good job'])\n",
    "# ...\n",
    "total = sum(score * weight for score, weight,_ in grades)  #'_' 은 관례적으로 사용하지 않을 변수에 입력\n",
    "total_weight = sum(weight for _, weight,_ in grades)\n",
    "average_grade = total / total_weight"
   ]
  },
  {
   "cell_type": "markdown",
   "metadata": {},
   "source": [
    " "
   ]
  },
  {
   "cell_type": "markdown",
   "metadata": {},
   "source": [
    "튜플의 아이템이 2개가 넘어가면 다른 방법을 고려하자"
   ]
  },
  {
   "cell_type": "markdown",
   "metadata": {},
   "source": [
    "#### namedtuple(immutable data class)\n",
    "- 불변 데이터 클래스 : 위치 인수나 키워드 인수로 생성할 수 있음\n",
    "- 필드는 이름이 붙은 속성으로 접근 가능\n",
    "- 이름이 붙은 속성이 있으면 나중에 요구 사항이 또 변해도 namedtuple에서 직접 작성한 클래스에서 쉽게 바꿀 수 있음"
   ]
  },
  {
   "cell_type": "markdown",
   "metadata": {},
   "source": [
    "#### namedtuple 제약\n",
    "1. 기본 인수값 설정 불가능, 데이터에 선택적인 속성이 많으면 힘듦, 속성을 사용할 때는 클래스를 직접 정의하는게 나을 수도 있음.\n",
    "2. ?"
   ]
  },
  {
   "cell_type": "code",
   "execution_count": 31,
   "metadata": {},
   "outputs": [],
   "source": [
    "import collections\n",
    "Grade = collections.namedtuple('Grade', ('score', 'weight'))"
   ]
  },
  {
   "cell_type": "markdown",
   "metadata": {},
   "source": [
    " "
   ]
  },
  {
   "cell_type": "markdown",
   "metadata": {},
   "source": [
    "### class1. 단일 과목을 표현하는 클래스"
   ]
  },
  {
   "cell_type": "code",
   "execution_count": 32,
   "metadata": {},
   "outputs": [],
   "source": [
    "class Subject(object):\n",
    "    def __init__(self):\n",
    "        self._grades = []\n",
    "        \n",
    "    def report_grade(self, score, weight):\n",
    "        self._grades.append(Grade(score, weight))\n",
    "    \n",
    "    def average_grade(self):\n",
    "        total, total_weight = 0, 0\n",
    "        for grade in self._grades:\n",
    "            total += grade.score * grade.weight\n",
    "            total_weight += grade.weight\n",
    "        return total/total_weight"
   ]
  },
  {
   "cell_type": "markdown",
   "metadata": {},
   "source": [
    "### class2. 한 학생이 공부한 과목을 표현하는 클래스"
   ]
  },
  {
   "cell_type": "code",
   "execution_count": 36,
   "metadata": {},
   "outputs": [],
   "source": [
    "class Student(object):\n",
    "    def __init__(self):\n",
    "        self._subjects = {}\n",
    "    \n",
    "    def subjects(self, name):\n",
    "        if name not in self._subjects:\n",
    "            self._subjects[name] = Subject()\n",
    "        return self._subjects[name]\n",
    "    \n",
    "    def average_grade(self):\n",
    "        total, count = 0, 0\n",
    "        for subject in self._subjects.values():\n",
    "            total += subject.average_grade()\n",
    "            count += 1\n",
    "        return total / count"
   ]
  },
  {
   "cell_type": "markdown",
   "metadata": {},
   "source": [
    "### class3. 학생의 이름을 키로 사용해 동적으로 모든 학생을 담을 컨테이너 구축"
   ]
  },
  {
   "cell_type": "code",
   "execution_count": 37,
   "metadata": {},
   "outputs": [],
   "source": [
    "class Gradebook(object):\n",
    "    def __init__(self):\n",
    "        self._student = {}\n",
    "    \n",
    "    def student(self, name):\n",
    "        if name not in self._student:\n",
    "            self._student[name] = Student()\n",
    "        return self._student[name]"
   ]
  },
  {
   "cell_type": "code",
   "execution_count": 38,
   "metadata": {},
   "outputs": [
    {
     "name": "stdout",
     "output_type": "stream",
     "text": [
      "80.0\n"
     ]
    }
   ],
   "source": [
    "book = Gradebook()\n",
    "sangho = book.student('Nohsangho')\n",
    "math = sangho.subjects('Math')\n",
    "math.report_grade(80, 0.3)\n",
    "# ...\n",
    "\n",
    "print(sangho.average_grade())"
   ]
  },
  {
   "cell_type": "markdown",
   "metadata": {},
   "source": [
    " "
   ]
  },
  {
   "cell_type": "markdown",
   "metadata": {},
   "source": [
    "## 핵심정리\n",
    "- 다른 딕셔너리나 긴 튜플을 값으로 담은 딕셔너리를 생성하지 말자\n",
    "- 정식 클래스의 유연성이 필요 없다면 가벼운 불변 데이터 컨테이너에는 namedtuple을 사용하자\n",
    "- 내부 상태를 관리하는 딕셔너리가 북잡해 지면 여러 헬퍼 클래스를 사용하는 방식으로 관리 코드를 바꾸자"
   ]
  }
 ],
 "metadata": {
  "kernelspec": {
   "display_name": "Python 3",
   "language": "python",
   "name": "python3"
  },
  "language_info": {
   "codemirror_mode": {
    "name": "ipython",
    "version": 3
   },
   "file_extension": ".py",
   "mimetype": "text/x-python",
   "name": "python",
   "nbconvert_exporter": "python",
   "pygments_lexer": "ipython3",
   "version": "3.6.4"
  }
 },
 "nbformat": 4,
 "nbformat_minor": 2
}
