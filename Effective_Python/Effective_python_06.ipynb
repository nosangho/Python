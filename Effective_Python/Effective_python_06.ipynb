{
 "cells": [
  {
   "cell_type": "markdown",
   "metadata": {},
   "source": [
    "# 6. 한 슬라이스에 start, end, stride를 함께 쓰지 말자"
   ]
  },
  {
   "cell_type": "markdown",
   "metadata": {},
   "source": [
    "### 스트라이드 기본 문법 : somelint[start,end,stride]"
   ]
  },
  {
   "cell_type": "code",
   "execution_count": 1,
   "metadata": {},
   "outputs": [
    {
     "name": "stdout",
     "output_type": "stream",
     "text": [
      "['red', 'yellow', 'blue']\n",
      "['orange', 'green', 'purple']\n"
     ]
    }
   ],
   "source": [
    "a = ['red', 'orange', 'yellow', 'green', 'blue', 'purple']\n",
    "odd = a[::2]\n",
    "evens = a[1::2]\n",
    "print(odd)\n",
    "print(evens)"
   ]
  },
  {
   "cell_type": "code",
   "execution_count": 2,
   "metadata": {},
   "outputs": [
    {
     "name": "stdout",
     "output_type": "stream",
     "text": [
      "b'ohgnas'\n"
     ]
    }
   ],
   "source": [
    "# byte문자열의 경우 음수로 스트라이드 하면 역순으로 간다.\n",
    "x = b'sangho'\n",
    "y = x[::-1]\n",
    "print(y)\n",
    "\n",
    "# 주의 해야 할 부분은 utf-8으로 인코드 된 문자열의 경우 오류가 난다."
   ]
  },
  {
   "cell_type": "code",
   "execution_count": 3,
   "metadata": {},
   "outputs": [],
   "source": [
    "# 한번에 start, end, stride를 동시에 쓰면 너무 복잡 -> 해결책 나눠서 진행\n",
    "a = ['a', 'b', 'c', 'd', 'e', 'f', 'g', 'h']\n",
    "\n",
    "# 1. stride 적용결과 변수로 우선 할당\n",
    "b = a[::2]\n",
    "# 2. 할당 된 변수로 슬라이싱 진행\n",
    "c = b[1:-1]"
   ]
  },
  {
   "cell_type": "markdown",
   "metadata": {},
   "source": [
    "## 핵심정리\n",
    "* 한 슬라이스에 start, end, stride를 동시에 쓰면 복잡하다\n",
    "* 슬라이스에 start, end의 인덱스 없이 stride를 양수로 쓰자. 음수 stride는 피하는게 좋다.\n",
    "* 파라미터 세개를 사용해야 하는 상황 -> 대체 방법 강구\n",
    " 1. 할당 두개(하나는 슬라이스, 다른 하나는 스트라이드)로 나눠서 진행\n",
    " 2. 내장모듈(itertools의 islice)를 사용하기"
   ]
  },
  {
   "cell_type": "code",
   "execution_count": null,
   "metadata": {},
   "outputs": [],
   "source": [
    "# 출처 : 파이썬 코딩의 기술 (길벗)"
   ]
  }
 ],
 "metadata": {
  "kernelspec": {
   "display_name": "Python 3",
   "language": "python",
   "name": "python3"
  },
  "language_info": {
   "codemirror_mode": {
    "name": "ipython",
    "version": 3
   },
   "file_extension": ".py",
   "mimetype": "text/x-python",
   "name": "python",
   "nbconvert_exporter": "python",
   "pygments_lexer": "ipython3",
   "version": "3.6.4"
  }
 },
 "nbformat": 4,
 "nbformat_minor": 2
}
