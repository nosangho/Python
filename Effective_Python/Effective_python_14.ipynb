{
 "cells": [
  {
   "cell_type": "markdown",
   "metadata": {},
   "source": [
    "# 14. None을 반환하기 보다는 예외를 일으키자"
   ]
  },
  {
   "cell_type": "markdown",
   "metadata": {},
   "source": [
    "#### 나누기 헬프함수"
   ]
  },
  {
   "cell_type": "code",
   "execution_count": 13,
   "metadata": {},
   "outputs": [],
   "source": [
    "def divide(a, b):\n",
    "    try:\n",
    "        return a/b\n",
    "    except ZeroDivisionError: # 0으로 나누는 경우 결과정의가 모호해서 None을 반환하는게 자연스럽다.\n",
    "        return None"
   ]
  },
  {
   "cell_type": "markdown",
   "metadata": {},
   "source": [
    "#### 위의 함수를 사용하는 코드는 반환값을 이렇게 해석한다."
   ]
  },
  {
   "cell_type": "code",
   "execution_count": 11,
   "metadata": {},
   "outputs": [
    {
     "name": "stdout",
     "output_type": "stream",
     "text": [
      "Invalid inputs\n"
     ]
    }
   ],
   "source": [
    "result = divide(0, 0)\n",
    "if result is None:\n",
    "    print('Invalid inputs') \n",
    "    \n",
    "# 분모의 0을 넣은 경우 : Invalid inputs 출력\n",
    "# 분자의 0을 넣은 경우 : 0으로 출력되는게 맞다"
   ]
  },
  {
   "cell_type": "code",
   "execution_count": 14,
   "metadata": {},
   "outputs": [
    {
     "name": "stdout",
     "output_type": "stream",
     "text": [
      "Invalid inputs\n"
     ]
    }
   ],
   "source": [
    "x, y = 0, 5\n",
    "result = divide(x, y)\n",
    "if not result:\n",
    "    print('Invalid inputs')   \n",
    "    # 0으로 출력이 되거나 None값이 return되야 하는데 None값을 False로 인식하여 처리했다 -> 잘못됨."
   ]
  },
  {
   "cell_type": "markdown",
   "metadata": {},
   "source": [
    "### None값을 반환하지 말고 오류를 줄이는 두가지 방법"
   ]
  },
  {
   "cell_type": "markdown",
   "metadata": {},
   "source": [
    "#### 1. 반환값을 두 개로 나눠서 튜플에 담기"
   ]
  },
  {
   "cell_type": "code",
   "execution_count": 15,
   "metadata": {},
   "outputs": [],
   "source": [
    "# 튜플에 첫번째는 작업이 성공했는지 실패했는지를 알려주고, 두번째는 계산된 실제 결과 리턴\n",
    "\n",
    "def divide(a, b):\n",
    "    try:\n",
    "        return True, a/b\n",
    "    except ZeroDivisionError:\n",
    "        return False, None"
   ]
  },
  {
   "cell_type": "markdown",
   "metadata": {},
   "source": [
    "##### 문제는 호출하는 쪽에서 튜플을 풀어야 한다. -> 첫번째 부분에 대한 인지가 어렵다."
   ]
  },
  {
   "cell_type": "code",
   "execution_count": 16,
   "metadata": {},
   "outputs": [],
   "source": [
    "success, result = divide(x, y)\n",
    "if not success:\n",
    "    print('Invalid inputs')"
   ]
  },
  {
   "cell_type": "code",
   "execution_count": null,
   "metadata": {},
   "outputs": [],
   "source": [
    "_, result = divide(x, y)\n",
    "if not result:                 # 이것 처음방법보다 더 안좋다.\n",
    "    print('Invalid inputs')"
   ]
  },
  {
   "cell_type": "markdown",
   "metadata": {},
   "source": [
    "#### 2. None값을 반환하지 않는다."
   ]
  },
  {
   "cell_type": "markdown",
   "metadata": {},
   "source": [
    "##### 호출하는 쪽에서 예외를 일으켜서 호출하는 쪽에서 예외처리하게 하기"
   ]
  },
  {
   "cell_type": "code",
   "execution_count": 17,
   "metadata": {},
   "outputs": [],
   "source": [
    "def divide(a, b):\n",
    "    try:\n",
    "        return a/b\n",
    "    except ZeroDivisionError as e:\n",
    "        raise ValueError('Invalid inputs') from e  \n",
    "        \n",
    "        #호출하는 쪽에 입력하는 값이 잘못됬음을 알리고자 ZeroDivisionError -> ValueError로 변경"
   ]
  },
  {
   "cell_type": "code",
   "execution_count": 18,
   "metadata": {},
   "outputs": [
    {
     "name": "stdout",
     "output_type": "stream",
     "text": [
      "Result is 2.5\n"
     ]
    }
   ],
   "source": [
    "x, y = 5, 2\n",
    "try:\n",
    "    result = divide(x, y)\n",
    "except ValueError:\n",
    "    print('Invalid inpurs')\n",
    "else:\n",
    "    print('Result is %.1f' % result)"
   ]
  },
  {
   "cell_type": "markdown",
   "metadata": {},
   "source": [
    "## 핵심정리\n",
    "* 특별한 의미를 나타내려고 None을 반환하는 함수가 오류를 일으키기 쉬운 이유는 None이나 다른 값(예를 들면 0이나 빈문자열)이 조건식에서 False로 평가되기 때문이다.\n",
    "* 특별한 상황을 알릴 때 None을 반환하는 대신에 예외를 일으키자. 문서화가 되어 있다면 호출하는 코드에서 예외를 적절하게 처리할 것이라고 기대할 수 있다."
   ]
  },
  {
   "cell_type": "code",
   "execution_count": null,
   "metadata": {},
   "outputs": [],
   "source": []
  }
 ],
 "metadata": {
  "kernelspec": {
   "display_name": "Python 3",
   "language": "python",
   "name": "python3"
  },
  "language_info": {
   "codemirror_mode": {
    "name": "ipython",
    "version": 3
   },
   "file_extension": ".py",
   "mimetype": "text/x-python",
   "name": "python",
   "nbconvert_exporter": "python",
   "pygments_lexer": "ipython3",
   "version": "3.6.5"
  }
 },
 "nbformat": 4,
 "nbformat_minor": 2
}
