{
 "cells": [
  {
   "cell_type": "markdown",
   "metadata": {},
   "source": [
    "# 10. range보다는 enumerate를 사용하자"
   ]
  },
  {
   "cell_type": "code",
   "execution_count": null,
   "metadata": {
    "collapsed": true
   },
   "outputs": [],
   "source": [
    "### 내장한수 range는 정수집합을 순회(iterate)하는 루프를 실행할 때 유용\n",
    "\n",
    "random_bits = 0\n",
    "for i in range(64):\n",
    "    if randint(0,1):\n",
    "        random_bits "
   ]
  },
  {
   "cell_type": "code",
   "execution_count": 3,
   "metadata": {
    "collapsed": false
   },
   "outputs": [
    {
     "name": "stdout",
     "output_type": "stream",
     "text": [
      "valilla is delicious\n",
      "chocolate is delicious\n",
      "pecan is delicious\n",
      "strawberry is delicious\n"
     ]
    }
   ],
   "source": [
    "# range는 문자열 리스트 순회에도 자주 쓴다.\n",
    "flavor_list = ['valilla', 'chocolate', 'pecan', 'strawberry']\n",
    "for flavor in flavor_list:\n",
    "    print('%s is delicious' %flavor)"
   ]
  },
  {
   "cell_type": "code",
   "execution_count": 4,
   "metadata": {
    "collapsed": false
   },
   "outputs": [
    {
     "name": "stdout",
     "output_type": "stream",
     "text": [
      "1 valilla\n",
      "2 chocolate\n",
      "3 pecan\n",
      "4 strawberry\n"
     ]
    }
   ],
   "source": [
    "# 리스트 순회의 인덱스를 알고 싶을 경우 range를 사용하면 -> code가 복잡해 진다.\n",
    "for i in range(len(flavor_list)):\n",
    "    flavor = flavor_list[i]\n",
    "    print('%d %s' %(i+1, flavor))"
   ]
  },
  {
   "cell_type": "markdown",
   "metadata": {},
   "source": [
    "#### 내장함수 : enumerate\n",
    "* 지연 제너레이터(lazy generator)로 이터레이터를 감싼다.\n",
    "* 이 제너레이터는 이터레이터에서 루프 인덱스와 다음 값을 한쌈으로 가져와 넘겨준다.\n",
    "* code의 유연성과 이해도가 높아진다."
   ]
  },
  {
   "cell_type": "code",
   "execution_count": 5,
   "metadata": {
    "collapsed": false
   },
   "outputs": [
    {
     "name": "stdout",
     "output_type": "stream",
     "text": [
      "1 valilla\n",
      "2 chocolate\n",
      "3 pecan\n",
      "4 strawberry\n"
     ]
    }
   ],
   "source": [
    "for i, flavor in enumerate(flavor_list):\n",
    "    print('%d %s' %(i+1, flavor))"
   ]
  },
  {
   "cell_type": "code",
   "execution_count": 8,
   "metadata": {
    "collapsed": false
   },
   "outputs": [
    {
     "name": "stdout",
     "output_type": "stream",
     "text": [
      "1 valilla\n",
      "2 chocolate\n",
      "3 pecan\n",
      "4 strawberry\n"
     ]
    }
   ],
   "source": [
    "# 시작하는 숫자를 지정시에 코드를 더 짧게 만들 수 있다.\n",
    "for i, flavor in enumerate(flavor_list, 1):\n",
    "    print('%d %s' %(i, flavor))"
   ]
  },
  {
   "cell_type": "markdown",
   "metadata": {},
   "source": [
    "### 핵심정리\n",
    "* enumerate는 이터레이터를 순회하면서 이터레이터에서 각 아이템의 인덱스를 얻어오는 간결한 문법을 제공한다.\n",
    "* range로 문법을 실행하고 시퀀스에 인덱스로 접근하기보다는 enumerate를 사용하는게 좋다.\n",
    "* enumerate에 두번째 파라미터를 사용하면 세기 시작할 숫자를 지정할 수 있다.(default=0)"
   ]
  },
  {
   "cell_type": "code",
   "execution_count": null,
   "metadata": {
    "collapsed": true
   },
   "outputs": [],
   "source": []
  }
 ],
 "metadata": {
  "kernelspec": {
   "display_name": "Python 3",
   "language": "python",
   "name": "python3"
  },
  "language_info": {
   "codemirror_mode": {
    "name": "ipython",
    "version": 3
   },
   "file_extension": ".py",
   "mimetype": "text/x-python",
   "name": "python",
   "nbconvert_exporter": "python",
   "pygments_lexer": "ipython3",
   "version": "3.6.4"
  }
 },
 "nbformat": 4,
 "nbformat_minor": 2
}
