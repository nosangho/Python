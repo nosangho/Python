{
 "cells": [
  {
   "cell_type": "markdown",
   "metadata": {},
   "source": [
    "# 5. 시퀀스를 슬라이스 하는 방법을 알자"
   ]
  },
  {
   "cell_type": "markdown",
   "metadata": {},
   "source": [
    "### 슬라이싱 문법의 기본형태 : somelist[start:end] (start는 포함/ end는 미포함)"
   ]
  },
  {
   "cell_type": "code",
   "execution_count": 1,
   "metadata": {},
   "outputs": [
    {
     "name": "stdout",
     "output_type": "stream",
     "text": [
      "First four: ['a', 'b', 'c', 'd']\n",
      "Last four: ['e', 'f', 'g', 'h']\n",
      "Middle two: ['d', 'e']\n"
     ]
    }
   ],
   "source": [
    "a = ['a', 'b', 'c', 'd', 'e', 'f', 'g', 'h']\n",
    "\n",
    "print('First four:', a[:4])\n",
    "print('Last four:', a[-4:])\n",
    "print('Middle two:', a[3:-3])"
   ]
  },
  {
   "cell_type": "code",
   "execution_count": 2,
   "metadata": {
    "collapsed": true
   },
   "outputs": [],
   "source": [
    "# 리스트의 처음부터 끝까지 슬라이스 할때는 보기 편하게 인덱스 0을 생략한다.\n",
    "assert a[:5] == a[0:5]"
   ]
  },
  {
   "cell_type": "code",
   "execution_count": 3,
   "metadata": {
    "collapsed": true
   },
   "outputs": [],
   "source": [
    "# 리스트의 끝까지 슬라이슬 할때도 마지막 인덱스는 생략가능하다.\n",
    "assert a[5:] == a[5:len(a)]"
   ]
  },
  {
   "cell_type": "code",
   "execution_count": 4,
   "metadata": {},
   "outputs": [
    {
     "data": {
      "text/plain": [
       "['f', 'g']"
      ]
     },
     "execution_count": 4,
     "metadata": {},
     "output_type": "execute_result"
    }
   ],
   "source": [
    "# 리스트의 끝을 기준으로 오프셋을 계산할때는 음수로 슬라이스 하는 것이 편하다.\n",
    "a[:]      # ['a', 'b', 'c', 'd', 'e', 'f', 'g', 'h']\n",
    "a[:5]     # ['a', 'b', 'c', 'd', 'e']\n",
    "a[:-1]    # ['a', 'b', 'c', 'd', 'e', 'f', 'g']\n",
    "a[4:]     #                     ['e', 'f', 'g', 'h']\n",
    "a[-3:]    #                          ['f', 'g', 'h']\n",
    "a[2:5]    #           ['c', 'd', 'e']\n",
    "a[2:-1]   #           ['c', 'd', 'e', 'f', 'g']\n",
    "a[-3:-1]  #                          ['f', 'g']"
   ]
  },
  {
   "cell_type": "code",
   "execution_count": 5,
   "metadata": {
    "collapsed": true
   },
   "outputs": [
    {
     "ename": "IndexError",
     "evalue": "list index out of range",
     "output_type": "error",
     "traceback": [
      "\u001b[0;31m---------------------------------------------------------------------------\u001b[0m",
      "\u001b[0;31mIndexError\u001b[0m                                Traceback (most recent call last)",
      "\u001b[0;32m<ipython-input-5-079ba6f88884>\u001b[0m in \u001b[0;36m<module>\u001b[0;34m()\u001b[0m\n\u001b[1;32m      4\u001b[0m \u001b[0;34m\u001b[0m\u001b[0m\n\u001b[1;32m      5\u001b[0m \u001b[0;31m# 인덱스에 직접 접근시에 에러 발생\u001b[0m\u001b[0;34m\u001b[0m\u001b[0;34m\u001b[0m\u001b[0m\n\u001b[0;32m----> 6\u001b[0;31m \u001b[0ma\u001b[0m\u001b[0;34m[\u001b[0m\u001b[0;36m20\u001b[0m\u001b[0;34m]\u001b[0m\u001b[0;34m\u001b[0m\u001b[0m\n\u001b[0m",
      "\u001b[0;31mIndexError\u001b[0m: list index out of range"
     ]
    }
   ],
   "source": [
    "# 슬라이싱은 start와 end 인덱스가 리스트의 경계를 벗어나도 적절하게 처리한다.\n",
    "first_twenty_items = a[:20]\n",
    "last_twenty_items = a[-20:]\n",
    "\n",
    "# 인덱스에 직접 접근시에 에러 발생\n",
    "a[20]"
   ]
  },
  {
   "cell_type": "code",
   "execution_count": 6,
   "metadata": {},
   "outputs": [
    {
     "name": "stdout",
     "output_type": "stream",
     "text": [
      "Before :  ['e', 'f', 'g', 'h']\n"
     ]
    }
   ],
   "source": [
    "# 슬라이싱의 결과는 새로운 리스트\n",
    "b = a[4:]\n",
    "print('Before : ',b)"
   ]
  },
  {
   "cell_type": "code",
   "execution_count": 7,
   "metadata": {},
   "outputs": [
    {
     "name": "stdout",
     "output_type": "stream",
     "text": [
      "After : ['e', 99, 'g', 'h']\n"
     ]
    }
   ],
   "source": [
    "b[1] = 99\n",
    "print('After :', b)"
   ]
  },
  {
   "cell_type": "code",
   "execution_count": 8,
   "metadata": {},
   "outputs": [
    {
     "name": "stdout",
     "output_type": "stream",
     "text": [
      "No change : ['a', 'b', 'c', 'd', 'e', 'f', 'g', 'h']\n"
     ]
    }
   ],
   "source": [
    "print('No change :', a)"
   ]
  },
  {
   "cell_type": "code",
   "execution_count": 9,
   "metadata": {},
   "outputs": [
    {
     "name": "stdout",
     "output_type": "stream",
     "text": [
      "Before ['a', 'b', 'c', 'd', 'e', 'f', 'g', 'h']\n"
     ]
    }
   ],
   "source": [
    "# 할당에 슬라이싱 사용 -> 원본 리스트에서 지정한 범위를 대체(길이가 달라도 된다.)\n",
    "print('Before', a)"
   ]
  },
  {
   "cell_type": "code",
   "execution_count": 10,
   "metadata": {},
   "outputs": [
    {
     "name": "stdout",
     "output_type": "stream",
     "text": [
      "After  ['a', 'b', 99, 22, 14, 'h']\n"
     ]
    }
   ],
   "source": [
    "a[2:7] = [99, 22, 14]\n",
    "print('After ', a)"
   ]
  },
  {
   "cell_type": "code",
   "execution_count": 11,
   "metadata": {
    "collapsed": true
   },
   "outputs": [],
   "source": [
    "# 시작과 끝을 생략하고 슬라이스 하면 원본 리스트에 복사본을 얻는다.\n",
    "b = a[:]\n",
    "assert b == a and b is not a"
   ]
  },
  {
   "cell_type": "code",
   "execution_count": 12,
   "metadata": {},
   "outputs": [
    {
     "name": "stdout",
     "output_type": "stream",
     "text": [
      "Before  ['a', 'b', 99, 22, 14, 'h']\n"
     ]
    }
   ],
   "source": [
    "# 슬라이스에 시작과 끝 인덱스를 지정하지 않고 할당(새 리스트를 할당하지 않고) -> 슬라이스 전체 내용을 참조 대상의 복사본으로 대체\n",
    "b = a\n",
    "print('Before ', a)"
   ]
  },
  {
   "cell_type": "code",
   "execution_count": 13,
   "metadata": {},
   "outputs": [
    {
     "name": "stdout",
     "output_type": "stream",
     "text": [
      "After  [101, 102, 103]\n"
     ]
    }
   ],
   "source": [
    "a[:] = [101, 102, 103]\n",
    "assert a is b         # 여전히 같은 리스트 객체임\n",
    "print('After ', a)    # 이제 다른 내용을 담음"
   ]
  },
  {
   "cell_type": "markdown",
   "metadata": {},
   "source": [
    "## 핵심정리\n",
    "* 너무 장황하게 하지 말기 : 슬라이스에서 start에 0 / end 설정은 불필요\n",
    "* 슬라이싱은 범위를 벗어난 start와 end의 인덱스를 허용하므로 잘 활용해라\n",
    "* list 슬라이스에 할당하면 원본 시퀀스에 지정한 범위를 참조 대상의 내용으로 대체함(길이가 달라도 상관 없음)"
   ]
  },
  {
   "cell_type": "code",
   "execution_count": null,
   "metadata": {
    "collapsed": true
   },
   "outputs": [],
   "source": [
    "# 출처 : 파이썬 코딩의 기술 (길벗)"
   ]
  }
 ],
 "metadata": {
  "kernelspec": {
   "display_name": "Python 3",
   "language": "python",
   "name": "python3"
  },
  "language_info": {
   "codemirror_mode": {
    "name": "ipython",
    "version": 3
   },
   "file_extension": ".py",
   "mimetype": "text/x-python",
   "name": "python",
   "nbconvert_exporter": "python",
   "pygments_lexer": "ipython3",
   "version": "3.6.4"
  }
 },
 "nbformat": 4,
 "nbformat_minor": 2
}
