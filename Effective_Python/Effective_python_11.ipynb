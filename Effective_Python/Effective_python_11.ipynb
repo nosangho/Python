{
 "cells": [
  {
   "cell_type": "markdown",
   "metadata": {},
   "source": [
    "# 11. 이터레이터를 병렬로 처리하려면 zip을 사용하자"
   ]
  },
  {
   "cell_type": "code",
   "execution_count": 13,
   "metadata": {},
   "outputs": [],
   "source": [
    "names = ['Sangho','inho','Jihyoni']\n",
    "letters = [len(n) for n in names]"
   ]
  },
  {
   "cell_type": "code",
   "execution_count": 4,
   "metadata": {},
   "outputs": [],
   "source": [
    "longest_name = None\n",
    "max_letters = 0"
   ]
  },
  {
   "cell_type": "code",
   "execution_count": 5,
   "metadata": {},
   "outputs": [],
   "source": [
    "for i in range(len(name)):\n",
    "    count = letters[i]\n",
    "    if count > max_letters:\n",
    "        longest_name = names[i]\n",
    "        max_letters = count"
   ]
  },
  {
   "cell_type": "code",
   "execution_count": 9,
   "metadata": {},
   "outputs": [
    {
     "name": "stdout",
     "output_type": "stream",
     "text": [
      "Jihyoni\n"
     ]
    }
   ],
   "source": [
    "print(longest_name)"
   ]
  },
  {
   "cell_type": "markdown",
   "metadata": {},
   "source": [
    "##### 진화된 방법 1 : enumerate를 사용한다."
   ]
  },
  {
   "cell_type": "code",
   "execution_count": 10,
   "metadata": {},
   "outputs": [],
   "source": [
    "for i, name in enumerate(names):\n",
    "    count = letters[i]\n",
    "    if count > max_letters:\n",
    "        longest_name = name\n",
    "        max_letters = count"
   ]
  },
  {
   "cell_type": "code",
   "execution_count": 11,
   "metadata": {},
   "outputs": [
    {
     "name": "stdout",
     "output_type": "stream",
     "text": [
      "Jihyoni\n"
     ]
    }
   ],
   "source": [
    "print(longest_name)"
   ]
  },
  {
   "cell_type": "markdown",
   "metadata": {},
   "source": [
    "##### 진화된 방법 2 : zip을 사용한다."
   ]
  },
  {
   "cell_type": "code",
   "execution_count": 14,
   "metadata": {},
   "outputs": [],
   "source": [
    "for name, count in zip(names, letters):\n",
    "    if count > max_letters:\n",
    "        longest_name = name\n",
    "        max_letters = count"
   ]
  },
  {
   "cell_type": "code",
   "execution_count": 15,
   "metadata": {},
   "outputs": [
    {
     "name": "stdout",
     "output_type": "stream",
     "text": [
      "Jihyoni\n"
     ]
    }
   ],
   "source": [
    "print(longest_name)"
   ]
  },
  {
   "cell_type": "markdown",
   "metadata": {},
   "source": [
    "### 내장함수 : zip\n",
    "* 파이썬3 에서만 작동하는 지연 제너레이터로 이터레이터 2개 이상을 감싼다.\n",
    "* zip 제너레이터는 각 이터레이터로부터 다음 값을 담은 튜플을 얻어온다.\n",
    "* zip을 사용할 경우 다중 리스트에서 인덱스로 접근하는 코드보다 훨씬 명료\n",
    "* 입력데이터의 길이가 같아야 한다 -> zip이 감싼 이터레이터가 끝날떄까지만 동작(리스트컴프리헨션에서 파생된 리스트를 사용할때 잘 동작한다.)"
   ]
  },
  {
   "cell_type": "markdown",
   "metadata": {},
   "source": [
    "### 핵심정리\n",
    "* 내장함수 zip은 여러 이터레이터를 병렬로 순회할ㄷ 때 사용할 수 있다.\n",
    "* 파이썬 3의 zip은 튜플을 생성하는 지연 제너레이터다. 파이썬2의 zip은 전체 결과를 튜플리스트로 반환한다.\n",
    "* 길이가 다른 이터레이터를 사용하면 zip은 그 결과를 조용히 잘나낸다.\n",
    "* 내장모듈 itertools의 zip_longest 함수를 쓰면 여러 이터레이터를 길이에 상관없이 병렬로 순회할 수 있다.\n",
    "(46 참고)"
   ]
  },
  {
   "cell_type": "code",
   "execution_count": null,
   "metadata": {},
   "outputs": [],
   "source": []
  }
 ],
 "metadata": {
  "kernelspec": {
   "display_name": "Python 3",
   "language": "python",
   "name": "python3"
  },
  "language_info": {
   "codemirror_mode": {
    "name": "ipython",
    "version": 3
   },
   "file_extension": ".py",
   "mimetype": "text/x-python",
   "name": "python",
   "nbconvert_exporter": "python",
   "pygments_lexer": "ipython3",
   "version": "3.6.5"
  }
 },
 "nbformat": 4,
 "nbformat_minor": 2
}
