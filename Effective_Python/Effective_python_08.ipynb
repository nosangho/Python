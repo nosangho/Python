{
 "cells": [
  {
   "cell_type": "markdown",
   "metadata": {},
   "source": [
    "# 8. 리스트 컴프리헨션에서 표현식을 두 개 넘게 쓰지 말자"
   ]
  },
  {
   "cell_type": "code",
   "execution_count": 4,
   "metadata": {
    "collapsed": false
   },
   "outputs": [
    {
     "name": "stdout",
     "output_type": "stream",
     "text": [
      "[1, 2, 3, 4, 5, 6, 7, 8, 9]\n"
     ]
    }
   ],
   "source": [
    "# 리스트 컴프리헨션에서 for가 이중 중첩일 경우 왼쪽부터 오른쪽으로 실행된다.\n",
    "matrix =  [[1,2,3],[4,5,6],[7,8,9]]\n",
    "flat = [x for row in matrix for x in row]\n",
    "print (flat)"
   ]
  },
  {
   "cell_type": "code",
   "execution_count": 5,
   "metadata": {
    "collapsed": false
   },
   "outputs": [
    {
     "name": "stdout",
     "output_type": "stream",
     "text": [
      "[[1, 4, 9], [16, 25, 36], [49, 64, 81]]\n"
     ]
    }
   ],
   "source": [
    "squared = [[x**2 for x in row] for row in matrix]\n",
    "print (squared)"
   ]
  },
  {
   "cell_type": "code",
   "execution_count": 7,
   "metadata": {
    "collapsed": false
   },
   "outputs": [
    {
     "name": "stdout",
     "output_type": "stream",
     "text": [
      "b list : [6, 8, 10]\n",
      "c list : [6, 8, 10]\n"
     ]
    }
   ],
   "source": [
    "# 리스트 컴프리헨션의 다중 if 조건 지원 -> 같은 루프 level에서 여러개 if : and와 동일\n",
    "a = [x for x in range(1,11)]\n",
    "b = [x for x in a if x>4 if x%2 ==0]\n",
    "c = [x for x in a if x>4 and x%2 ==0]\n",
    "\n",
    "print('b list :', b)\n",
    "print('c list :', c)"
   ]
  },
  {
   "cell_type": "code",
   "execution_count": 8,
   "metadata": {
    "collapsed": false
   },
   "outputs": [
    {
     "name": "stdout",
     "output_type": "stream",
     "text": [
      "[[6], [9]]\n"
     ]
    }
   ],
   "source": [
    "# 이렇게 중첩된 리스트컴프리헨션은 피하자 -> 직관적이지 못하다.\n",
    "matrix =  [[1,2,3],[4,5,6],[7,8,9]]\n",
    "filtered = [[x for x in row if x%3 ==0] for row in matrix if sum(row)>=10]\n",
    "print(filtered)"
   ]
  },
  {
   "cell_type": "markdown",
   "metadata": {},
   "source": [
    "### 리스트 컴프리헨션을 사용할 때 표현식이 두개가 넘어가는 것을 피하자.\n",
    "* 조건 2개 or 루프 2개 or 조건 1개, 루프 1개\n",
    "* 이것이 넘어갈 경우에는 일반적인 if문과 for문을 사용하고 헬퍼함수(제너레이터)사용을 고려해라."
   ]
  },
  {
   "cell_type": "markdown",
   "metadata": {},
   "source": [
    "## 핵심정리\n",
    "* 리스트컴프리헨션 -> 다중 루프와 루프 레벨별 다중 조건을 지원한다.\n",
    "* 표현식이 두개가 넘게 들어 있는 리스트 컴프리헨션은 이해하기 매우 어려우므로 피해야 한다."
   ]
  },
  {
   "cell_type": "code",
   "execution_count": null,
   "metadata": {
    "collapsed": true
   },
   "outputs": [],
   "source": []
  }
 ],
 "metadata": {
  "kernelspec": {
   "display_name": "Python 3",
   "language": "python",
   "name": "python3"
  },
  "language_info": {
   "codemirror_mode": {
    "name": "ipython",
    "version": 3
   },
   "file_extension": ".py",
   "mimetype": "text/x-python",
   "name": "python",
   "nbconvert_exporter": "python",
   "pygments_lexer": "ipython3",
   "version": "3.6.4"
  }
 },
 "nbformat": 4,
 "nbformat_minor": 2
}
