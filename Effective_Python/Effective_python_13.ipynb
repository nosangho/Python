{
 "cells": [
  {
   "cell_type": "markdown",
   "metadata": {},
   "source": [
    "## 13. try/except/else/finally에서 각 블록의 장점을 잘 이용하자"
   ]
  },
  {
   "cell_type": "markdown",
   "metadata": {},
   "source": [
    "### finally 블록\n",
    "#### - try / finally\n",
    "* 예외를 전달하고 싶지만, 예외를 발생해도 정리코드를 실행하고 싶을때 \n",
    "* 파일 핸들러를 종료하는 작업에서 유용하게 쓰임"
   ]
  },
  {
   "cell_type": "code",
   "execution_count": 2,
   "metadata": {
    "collapsed": true
   },
   "outputs": [
    {
     "ename": "FileNotFoundError",
     "evalue": "[Errno 2] No such file or directory: './random_data.txt'",
     "output_type": "error",
     "traceback": [
      "\u001b[0;31m---------------------------------------------------------------------------\u001b[0m",
      "\u001b[0;31mFileNotFoundError\u001b[0m                         Traceback (most recent call last)",
      "\u001b[0;32m<ipython-input-2-cebf49c3ee53>\u001b[0m in \u001b[0;36m<module>\u001b[0;34m()\u001b[0m\n\u001b[0;32m----> 1\u001b[0;31m \u001b[0mhandle\u001b[0m \u001b[0;34m=\u001b[0m \u001b[0mopen\u001b[0m\u001b[0;34m(\u001b[0m\u001b[0;34m'./random_data.txt'\u001b[0m\u001b[0;34m)\u001b[0m    \u001b[0;31m# IOError가 일어날 수 있음\u001b[0m\u001b[0;34m\u001b[0m\u001b[0m\n\u001b[0m\u001b[1;32m      2\u001b[0m \u001b[0;32mtry\u001b[0m\u001b[0;34m:\u001b[0m\u001b[0;34m\u001b[0m\u001b[0m\n\u001b[1;32m      3\u001b[0m     \u001b[0mdata\u001b[0m \u001b[0;34m=\u001b[0m \u001b[0mhandle\u001b[0m\u001b[0;34m.\u001b[0m\u001b[0mread\u001b[0m\u001b[0;34m(\u001b[0m\u001b[0;34m)\u001b[0m    \u001b[0;31m# UnicodeDecodeError가 일어날 수 있음\u001b[0m\u001b[0;34m\u001b[0m\u001b[0m\n\u001b[1;32m      4\u001b[0m \u001b[0;32mfinally\u001b[0m\u001b[0;34m:\u001b[0m\u001b[0;34m\u001b[0m\u001b[0m\n\u001b[1;32m      5\u001b[0m     \u001b[0mhandle\u001b[0m\u001b[0;34m.\u001b[0m\u001b[0mclese\u001b[0m\u001b[0;34m(\u001b[0m\u001b[0;34m)\u001b[0m          \u001b[0;31m# try이후에 항상 실행됨\u001b[0m\u001b[0;34m\u001b[0m\u001b[0m\n",
      "\u001b[0;31mFileNotFoundError\u001b[0m: [Errno 2] No such file or directory: './random_data.txt'"
     ]
    }
   ],
   "source": [
    "handle = open('./random_data.txt')    # IOError가 일어날 수 있음\n",
    "try:\n",
    "    data = handle.read()    # UnicodeDecodeError가 일어날 수 있음\n",
    "finally:\n",
    "    handle.clese()          # try이후에 항상 실행됨"
   ]
  },
  {
   "cell_type": "markdown",
   "metadata": {},
   "source": [
    "### else 블록\n",
    "#### - try / except / else\n",
    "* try 블록이 예외를 일으키지 않으면 else 블록이 실행\n",
    "* else 블록을 사용할 경우 try 블록의 코드를 최소로 줄이고 가독성을 높일 수 있음\n",
    "* else절은 try/except 다음에 나오는 처리를 시각적으로 except블록과 구분해 준다.\n",
    "* 한마디로 예외 전달 행위를 명확하게 한다."
   ]
  },
  {
   "cell_type": "code",
   "execution_count": null,
   "metadata": {},
   "outputs": [],
   "source": [
    "def load_json_key(data, key):\n",
    "    try:\n",
    "        result_dict = json.loads(data)    # ValuesError가 일어날 수 있음\n",
    "    except ValueError as e:\n",
    "        raise KeyError from e\n",
    "    else:\n",
    "        return result_dict[key]           # KeyError가 일어날 수 있음"
   ]
  },
  {
   "cell_type": "markdown",
   "metadata": {},
   "source": [
    "### 모두 함께 사용하기\n",
    "#### - try / except / else / finally\n",
    "\n",
    "##### * ex) 파일에서 수행할 작업 설명을 읽고 처리한 후 즉석에서 업데이트 하는 함수 구현\n",
    "- try : 파일을 읽고 처리\n",
    "- except : try블록에서 일어난 예외를 처리\n",
    "- else : 파일을 즉석에서 업데이트하고 이와 관련된 예외 전달(try/except 뒷처리)\n",
    "- finally : 파일 핸들을 정리"
   ]
  },
  {
   "cell_type": "code",
   "execution_count": 4,
   "metadata": {},
   "outputs": [],
   "source": [
    "UNDEFINED = object()\n",
    "\n",
    "def divide_json(path):\n",
    "    handle = open(path, 'r+')       # IOError가 일어날 수 있음\n",
    "    try:\n",
    "        data = handle.read()        # UnicodeDecodeError가 일어날 수 있음\n",
    "        op = json.loads(data)       # ValueError가 일어날 수 있음\n",
    "        value = (\n",
    "            op['numerator']/\n",
    "            op['denominator']       # ZeroDivisionError가 일어날 수 있음\n",
    "        )\n",
    "    except ZeroDivisionError as e:  # 사실상 try에서 일어나는 모든 에러 처리\n",
    "        return UNDEFIEND\n",
    "    else:\n",
    "        op['result'] = value\n",
    "        result = json.dumps(op)\n",
    "        handle.seek(0)\n",
    "        handle.write(result)        # IOError가 일어날 수 있음\n",
    "        return value\n",
    "    finally:\n",
    "        handle.close()              # 항상 실행함\n",
    "        \n",
    "# 모든 블록이 직관적인 방식으로 엮어서 동작함.\n",
    "# 결과 데이터를 재작성하는 동안에 else블록에서 예외가 일어나도 finally 블록은 실행되서 파일을 닫느다."
   ]
  },
  {
   "cell_type": "markdown",
   "metadata": {},
   "source": [
    "## 핵심정리\n",
    "* try/finally 복합문을 이용하면 try 블록에서 예외 발생 여부와 상관없이 정리 코드를 실행할 수 있다.\n",
    "* else 블록은 try 블록에 있는 코드의 양을 최소로 줄이는데 도움을 주며 try/except블록과 성공한 경우에 실행할 코드를 시각적으로 구분해 준다.\n",
    "* else 블록은 try 블록의 코드가 성공적으로 실행된 후 finally 블록에서 공통정리코드를 실행하기 전에 추가 작업을 하는 데 사용할 수 있다."
   ]
  }
 ],
 "metadata": {
  "kernelspec": {
   "display_name": "Python 3",
   "language": "python",
   "name": "python3"
  },
  "language_info": {
   "codemirror_mode": {
    "name": "ipython",
    "version": 3
   },
   "file_extension": ".py",
   "mimetype": "text/x-python",
   "name": "python",
   "nbconvert_exporter": "python",
   "pygments_lexer": "ipython3",
   "version": "3.6.5"
  }
 },
 "nbformat": 4,
 "nbformat_minor": 2
}
