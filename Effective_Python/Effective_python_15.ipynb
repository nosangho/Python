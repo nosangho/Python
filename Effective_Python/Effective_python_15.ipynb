{
 "cells": [
  {
   "cell_type": "markdown",
   "metadata": {},
   "source": [
    "# 15. 클로저가 변수 스코프와 상호작용하는 법을 알자"
   ]
  },
  {
   "cell_type": "markdown",
   "metadata": {},
   "source": [
    "* 클로저(closure) : 자신이 정의된 스코프에 있는 변수를 참조하는 함수\n",
    "* 스코프(scope)   : 유효범위"
   ]
  },
  {
   "cell_type": "markdown",
   "metadata": {},
   "source": [
    "#### 숫자리스트를 정렬할 때 특정 그룹의 숫자들이 먼저 오도록 우선순위 매기는 패턴\n",
    "* 사용자 인터페이스 표현\n",
    "* 다른 것 보다 중요한 메시지나 예외 이벤트를 먼저 보여줘야 할 때 유용"
   ]
  },
  {
   "cell_type": "code",
   "execution_count": 3,
   "metadata": {},
   "outputs": [],
   "source": [
    "def sort_priority(values, group):\n",
    "    def helper(x):\n",
    "        if x in group:\n",
    "            return (0,x)\n",
    "        return(1,x)\n",
    "    values.sort(key=helper)"
   ]
  },
  {
   "cell_type": "code",
   "execution_count": 4,
   "metadata": {},
   "outputs": [
    {
     "name": "stdout",
     "output_type": "stream",
     "text": [
      "[2, 3, 5, 7, 1, 4, 6, 8]\n"
     ]
    }
   ],
   "source": [
    "numbers = [8,3,1,2,5,4,7,6]\n",
    "group = {2,3,5,7}\n",
    "\n",
    "sort_priority(numbers, group)\n",
    "print(numbers)"
   ]
  },
  {
   "cell_type": "markdown",
   "metadata": {},
   "source": [
    "1. 파이썬은 클로저를 지원한다. 이때문에 help함수가 sort_priority group인수에 접근할 수 있다.\n",
    "2. 함수는 파이썬의 일급객체(first-class object)다. 이 말은 함수를 직접 참조하고, 별수에 할당하고, 다른 함수의 인수로 전달하고, 표현식과 if문 등 에서 비교할 수 있다는 의미다. 따라서 sort 메서드에서 클로저 함수를 key인수로 받을 수 있다.\n",
    "3. 파이썬에는 튜플을 비교하는 특정한 규칙이 있다. 먼저 인덱스 0으로 아이템을 비교하고 다음에 인덱스1, 다음은 인덱스2와 같이 진행한다. helper 클로저의 반환 값이 정렬 순서를 분리된 두 그룹으로 나뉘게 한건 이규칙이다."
   ]
  },
  {
   "cell_type": "markdown",
   "metadata": {},
   "source": [
    "### 좀더 명확해 보이는 방식으로 수정"
   ]
  },
  {
   "cell_type": "code",
   "execution_count": 6,
   "metadata": {},
   "outputs": [],
   "source": [
    "def sort_priority2(numbers, group):\n",
    "    found = False          # 스코프 : 'sort_priority2\n",
    "    def helper(x):\n",
    "        if x in group:\n",
    "            found = True   # 스코프 : helper  -> 안 좋음\n",
    "            return (0,x)\n",
    "        return(1,x)\n",
    "    numbers.sort(key=helper)\n",
    "    return found"
   ]
  },
  {
   "cell_type": "code",
   "execution_count": 7,
   "metadata": {},
   "outputs": [
    {
     "name": "stdout",
     "output_type": "stream",
     "text": [
      "Found : False\n",
      "[2, 3, 5, 7, 1, 4, 6, 8]\n"
     ]
    }
   ],
   "source": [
    "found = sort_priority2(numbers, group)\n",
    "print('Found :',found)\n",
    "print(numbers)"
   ]
  },
  {
   "cell_type": "markdown",
   "metadata": {},
   "source": [
    "#### 스코프 탐색 순서\n",
    "1. 현재 함수의 스코프\n",
    "2. (현재스코를 담고 있는 다른 함수같은) 감싸고 있는 스코프\n",
    "3. 코드를 포함하고 있는 모듈의 스코프(전역 스코프)\n",
    "4. (len이나 str같은 함수를 담고 있는) 내장 스코프"
   ]
  },
  {
   "cell_type": "markdown",
   "metadata": {},
   "source": [
    "### 데이터 얻어오기\n",
    "* 파이썬에는 클로저에서 데이터를 얻어오는 특별한 문법이 있다 : nonlocal문\n",
    "* nonlocal : 특정 변수 이름에 할당할 때 스코프 탐색이 일어나야 함을 나타낸다.\n",
    "* 제약 : 전역 변수의 오염을 피할 수는 있으나, 모듈 수준의 스코프까지 탐색은 불가능"
   ]
  },
  {
   "cell_type": "code",
   "execution_count": 10,
   "metadata": {},
   "outputs": [],
   "source": [
    "def sort_priority3(numbers, group):\n",
    "    found = False\n",
    "    def helper(x):\n",
    "        nonlocal found\n",
    "        if x in group:\n",
    "            found = True\n",
    "            return (0,x)\n",
    "        return (1,x)\n",
    "    numbers.sort(key=helper)\n",
    "    return found"
   ]
  },
  {
   "cell_type": "markdown",
   "metadata": {},
   "source": [
    "* nonlocal문은 클로저에서 데이터를 다른 스코프에 할당하는 시점을 알아보기 쉽게 해 준다.\n",
    "* nonlocal문은 변수 할당이 모듈 스코프에 직접 들어가게 하는 global문을 보완한다.\n",
    "* 주의 : 간단한 함수 외에 쓰면 부작용을 알아내기가 함들다."
   ]
  },
  {
   "cell_type": "markdown",
   "metadata": {},
   "source": [
    "### nonlocal을 사용하기 복잡하다 -> 헬퍼클래스로 상태를 감싸는 방법"
   ]
  },
  {
   "cell_type": "code",
   "execution_count": 11,
   "metadata": {},
   "outputs": [],
   "source": [
    "class Sorter(object):\n",
    "    def __init__(self, group):\n",
    "        self.group = group\n",
    "        self.found = False\n",
    "    \n",
    "    def __call__(self, x):\n",
    "        if x in self.group:\n",
    "            self.found = True\n",
    "            return (0,x)\n",
    "        return(1,0)\n",
    "\n",
    "sorter = Sorter(group)\n",
    "numbers.sort(key=sorter)\n",
    "assert sorter.found is True"
   ]
  },
  {
   "cell_type": "markdown",
   "metadata": {},
   "source": [
    "## 핵심정리\n",
    "* 클로저 함수는 자신이 정의된 스코프 중 어디에 있는 변수도 참조할 수 있다.\n",
    "* 기본적으로 클로저에서 변수를 할당하면 바깥쪽 스코프에는 영향을 미치지 않는다.\n",
    "* 파이썬3에서는 nonlocal문을 사용하여 클로저를 감싸고 있는 스코프의 변수를 수정할 수 있음을 알린다.\n",
    "* 간단한 함수 이외에는 nonlocal문을 사용하지 말자"
   ]
  },
  {
   "cell_type": "code",
   "execution_count": null,
   "metadata": {},
   "outputs": [],
   "source": []
  }
 ],
 "metadata": {
  "kernelspec": {
   "display_name": "Python 3",
   "language": "python",
   "name": "python3"
  },
  "language_info": {
   "codemirror_mode": {
    "name": "ipython",
    "version": 3
   },
   "file_extension": ".py",
   "mimetype": "text/x-python",
   "name": "python",
   "nbconvert_exporter": "python",
   "pygments_lexer": "ipython3",
   "version": "3.6.5"
  }
 },
 "nbformat": 4,
 "nbformat_minor": 2
}
