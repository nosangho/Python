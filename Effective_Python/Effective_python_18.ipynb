{
 "cells": [
  {
   "cell_type": "markdown",
   "metadata": {},
   "source": [
    "# 18. 가변 위치 인수로 깔끔하게 보이게 하자"
   ]
  },
  {
   "cell_type": "markdown",
   "metadata": {},
   "source": [
    "#### 선택적 위치 인수(관례적으로 *args로 부른다)를 사용하면 함수호출의 편의성과 가독률을 높힌다."
   ]
  },
  {
   "cell_type": "markdown",
   "metadata": {},
   "source": [
    "함수의 인수가 고정되어 있다면 메시지와 값 리스트를 받는게 둘다 필요하다."
   ]
  },
  {
   "cell_type": "code",
   "execution_count": 2,
   "metadata": {},
   "outputs": [
    {
     "name": "stdout",
     "output_type": "stream",
     "text": [
      "My number are : 1, 2\n",
      "Hi there\n"
     ]
    }
   ],
   "source": [
    "def log(message, values):\n",
    "    if not values:\n",
    "        print(message)\n",
    "    else:\n",
    "        values_str = ', '.join(str(x) for x in values)\n",
    "        print('%s : %s' %(message, values_str))\n",
    "        \n",
    "log('My number are', [1,2])\n",
    "log('Hi there', [])"
   ]
  },
  {
   "cell_type": "markdown",
   "metadata": {},
   "source": [
    " "
   ]
  },
  {
   "cell_type": "markdown",
   "metadata": {},
   "source": [
    "*args를 사용하여 수정"
   ]
  },
  {
   "cell_type": "code",
   "execution_count": 3,
   "metadata": {},
   "outputs": [],
   "source": [
    "def log(message, *values):\n",
    "    if not values:\n",
    "        print(message)\n",
    "    else:\n",
    "        values_str = ', '.join(str(x) for x in values)\n",
    "        print('%s : %s' %(message, values_str))"
   ]
  },
  {
   "cell_type": "code",
   "execution_count": 4,
   "metadata": {},
   "outputs": [
    {
     "name": "stdout",
     "output_type": "stream",
     "text": [
      "My number are : [1, 2]\n",
      "Hi there\n"
     ]
    }
   ],
   "source": [
    "log('My number are', [1,2])\n",
    "log('Hi there')    # 훨씬 나음"
   ]
  },
  {
   "cell_type": "markdown",
   "metadata": {},
   "source": [
    " "
   ]
  },
  {
   "cell_type": "markdown",
   "metadata": {},
   "source": [
    "- 리스트를 log함수처럼 가변 인수 함수를 호출하는데 사용하고 싶으면 * 연산자를 써라\n",
    "- 그럴경우 파이썬은 시퀀스에 들어 있는 아이템을 위치 인수로 전달한다.\n",
    "- 함수를 호출하는 곳에서 *을 붙여야 함"
   ]
  },
  {
   "cell_type": "code",
   "execution_count": 5,
   "metadata": {},
   "outputs": [
    {
     "name": "stdout",
     "output_type": "stream",
     "text": [
      "Favorites colors : 8, 42, 11\n"
     ]
    }
   ],
   "source": [
    "favorites = [8, 42, 11]\n",
    "log('Favorites colors', *favorites)"
   ]
  },
  {
   "cell_type": "markdown",
   "metadata": {},
   "source": [
    " "
   ]
  },
  {
   "cell_type": "markdown",
   "metadata": {},
   "source": [
    "#### 첫번째 문제"
   ]
  },
  {
   "cell_type": "markdown",
   "metadata": {},
   "source": [
    "가변인수가 함수에 전달되기에 앞서 항상 튜플로 변환됨. \n",
    "이는 함수를 호출하는 쪽에서 제너레이터에 * 연산자를 쓰면 제너레이터가 모두 소진할 때까지 순회하게 됨.\n",
    "결과로 만들어진 튜플은 제너레이터에서 생성된 모든 값을 담고 있음으로 메모리가 폭발함"
   ]
  },
  {
   "cell_type": "code",
   "execution_count": 6,
   "metadata": {},
   "outputs": [
    {
     "name": "stdout",
     "output_type": "stream",
     "text": [
      "(0, 1, 2, 3, 4, 5, 6, 7, 8, 9)\n"
     ]
    }
   ],
   "source": [
    "def my_generator():\n",
    "    for i in range(10):\n",
    "        yield i\n",
    "\n",
    "def my_func(*args):\n",
    "    print(args)\n",
    "    \n",
    "it = my_generator()\n",
    "my_func(*it)"
   ]
  },
  {
   "cell_type": "markdown",
   "metadata": {},
   "source": [
    "- *args를 받는 함수는 인수 리스트에 있는 입력 수가 적당할때 좋은 방법\n",
    "- 이런 함수는 리터럴이나 변수 이름을 한꺼번에 넘기는 함수 호출에 이상적이다.\n",
    "- 주로 개발자들을 편하게 하고 코드의 가독성을 높이는데 사용한다."
   ]
  },
  {
   "cell_type": "markdown",
   "metadata": {},
   "source": [
    " "
   ]
  },
  {
   "cell_type": "markdown",
   "metadata": {},
   "source": [
    "#### 두번째 문제"
   ]
  },
  {
   "cell_type": "markdown",
   "metadata": {},
   "source": [
    "- 추후 호출 코드를 모두 변경하지 않고서는 새 위치 인수 추가가 불가능\n",
    "- 예를 들어 인수리스트 앞쪽에 위치 인수를 추가하면 기존의 호출 코드가 수정없이는 이상하게 돌아간다."
   ]
  },
  {
   "cell_type": "code",
   "execution_count": 8,
   "metadata": {},
   "outputs": [
    {
     "name": "stdout",
     "output_type": "stream",
     "text": [
      "1: Favorites: 7, 63\n",
      "Favorite numbers: 7: 23\n"
     ]
    }
   ],
   "source": [
    "def log(sequence, message, *values):\n",
    "    if not values:\n",
    "        print('%s:%s' %(sequence, message))\n",
    "    else:\n",
    "        values_str = ', '.join(str(x) for x in values)\n",
    "        print('%s: %s: %s' %(sequence, message, values_str))\n",
    "        \n",
    "        \n",
    "log(1, 'Favorites', 7,63)       # 새로운 용법은 Ok\n",
    "log('Favorite numbers', 7,23)   # 기존 용법은 제대로 동작하지 않음."
   ]
  },
  {
   "cell_type": "markdown",
   "metadata": {},
   "source": [
    "- 위의 코드에서 sequence인수를 받지 못해서 7을 message파라미터로 사용\n",
    "- 오류 발생을 안하기 때문에 뭐가 잘못됬는지 찾기가 엄청 어렵다.\n",
    "- 이런 문제를 해결하기 위해서는 *args를 받는 함수를 확장할때 키워드 전용인수를 사용해라(#21)"
   ]
  },
  {
   "cell_type": "markdown",
   "metadata": {},
   "source": [
    "## 핵심정리\n",
    "- def문에서 *args를 사용하면 함수에서 가변 개수의 위치인수를 받을 수 있다.\n",
    "- *연산자를 쓰면 시퀀스에 들어 있는 아이템을 함수의 위치 인수로 사용할 수 있다.\n",
    "- 제너레이터와 * 연산자를 함께 사용하면 프로그램이 메모리 부족으로 망가질 수도 있다.\n",
    "- *args를 받는 함수에 새 위치 파라미터를 추가하면 정말 찾기 어려운 버그가 생길수 있다."
   ]
  },
  {
   "cell_type": "code",
   "execution_count": null,
   "metadata": {},
   "outputs": [],
   "source": []
  }
 ],
 "metadata": {
  "kernelspec": {
   "display_name": "Python 3",
   "language": "python",
   "name": "python3"
  },
  "language_info": {
   "codemirror_mode": {
    "name": "ipython",
    "version": 3
   },
   "file_extension": ".py",
   "mimetype": "text/x-python",
   "name": "python",
   "nbconvert_exporter": "python",
   "pygments_lexer": "ipython3",
   "version": "3.6.5"
  }
 },
 "nbformat": 4,
 "nbformat_minor": 2
}
