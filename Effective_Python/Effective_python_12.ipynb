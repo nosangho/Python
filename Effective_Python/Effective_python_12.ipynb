{
 "cells": [
  {
   "cell_type": "markdown",
   "metadata": {},
   "source": [
    "# 12. for와 while 루프 뒤에는 else 블록을 쓰지 말자"
   ]
  },
  {
   "cell_type": "markdown",
   "metadata": {},
   "source": [
    "#### 파이썬에만 있는 for / else문"
   ]
  },
  {
   "cell_type": "code",
   "execution_count": 1,
   "metadata": {},
   "outputs": [
    {
     "name": "stdout",
     "output_type": "stream",
     "text": [
      "Loop 0\n",
      "Loop 1\n",
      "Loop 2\n",
      "Else block!\n"
     ]
    }
   ],
   "source": [
    "for i in range(3):\n",
    "    print('Loop %d' %i)\n",
    "else:\n",
    "    print('Else block!')"
   ]
  },
  {
   "cell_type": "markdown",
   "metadata": {},
   "source": [
    "#### 기본적인 else문\n",
    "* if/else : 이전 블록(if)이 실행되지 않으면 이 블록이 실행된다.\n",
    "* try/except : 이전 블록(try)이 실행되지 않으면 이 블록이 실행된다.\n",
    "* try/except/else : 상동\n",
    "* try/finally : 이전 블록을 실행하고 항상 마지막에 실행하라."
   ]
  },
  {
   "cell_type": "markdown",
   "metadata": {},
   "source": [
    "#### for / else문\n",
    "* 기존 생각 : 루프(for)가 완료되지 않는다면 이 블록을 실행한다. -> 틀림\n",
    "* 실제 구동 : 루프(for)에서 break문을 사용해야 else 블록을 건너뛸 수 있다"
   ]
  },
  {
   "cell_type": "code",
   "execution_count": 4,
   "metadata": {},
   "outputs": [
    {
     "name": "stdout",
     "output_type": "stream",
     "text": [
      "Loop 0\n",
      "Loop 1\n",
      "Loop 2\n",
      "Else block!\n"
     ]
    }
   ],
   "source": [
    "for i in range(3):\n",
    "    print('Loop %d' %i)\n",
    "else:\n",
    "    print('Else block!')"
   ]
  },
  {
   "cell_type": "markdown",
   "metadata": {},
   "source": [
    "#### 빈 시퀀스를 처리하는 루프문에서도 else블록이 즉시 실행된다."
   ]
  },
  {
   "cell_type": "code",
   "execution_count": 5,
   "metadata": {},
   "outputs": [
    {
     "name": "stdout",
     "output_type": "stream",
     "text": [
      "For Else block!\n"
     ]
    }
   ],
   "source": [
    "for x in []:\n",
    "    print('Never runs')\n",
    "else:\n",
    "    print('For Else block!')"
   ]
  },
  {
   "cell_type": "markdown",
   "metadata": {},
   "source": [
    "#### while문이 처음부터 거짓인 경우에도 실행된다."
   ]
  },
  {
   "cell_type": "code",
   "execution_count": 7,
   "metadata": {},
   "outputs": [
    {
     "name": "stdout",
     "output_type": "stream",
     "text": [
      "While Else block!\n"
     ]
    }
   ],
   "source": [
    "while False:\n",
    "    print('Never runs')\n",
    "else:\n",
    "    print('While Else block!')"
   ]
  },
  {
   "cell_type": "markdown",
   "metadata": {},
   "source": [
    "#### * 위와같이 동작하는 이유는 루프 다음에 오는 else블록은 루프로 뭔가를 검색할때 유용하기 때문"
   ]
  },
  {
   "cell_type": "code",
   "execution_count": 10,
   "metadata": {},
   "outputs": [
    {
     "name": "stdout",
     "output_type": "stream",
     "text": [
      "Testing 2\n",
      "Testing 3\n",
      "Not coprime\n"
     ]
    }
   ],
   "source": [
    "# 두 숫자의 서로소 여부를 판단하는 코드\n",
    "a = 3\n",
    "b = 9\n",
    "for i in range(2,min(a,b)+1):\n",
    "    print('Testing',i)\n",
    "    if a%i ==0 and b%i ==0:\n",
    "        print('Not coprime')\n",
    "        break\n",
    "else:\n",
    "    print('Coprime')\n",
    "    \n",
    "# else문은 for문이 break를 만나지 않았을때 실행된다."
   ]
  },
  {
   "cell_type": "markdown",
   "metadata": {},
   "source": [
    "### 위의 방법 대신 헬퍼 함수를 만들어서 사용한다.\n",
    "1. 찾으려는 조건을 찾았을때 바로 반환하는 헬퍼 함수\n",
    "2. 루프에서 찾으려는 대상을 찾았는지 알려주는 결과변수 사용 -> 찾았을때 break로 루프 중단\n",
    "* 결국 장점보다 단점이 많다."
   ]
  },
  {
   "cell_type": "code",
   "execution_count": 13,
   "metadata": {},
   "outputs": [],
   "source": [
    "def coprime(a, b):\n",
    "    for i in range(2, min(a,b)+1):\n",
    "        if a%i == 0 and b%i ==0:\n",
    "            return False\n",
    "    return True"
   ]
  },
  {
   "cell_type": "code",
   "execution_count": 15,
   "metadata": {},
   "outputs": [],
   "source": [
    "def coprime2(a, b):\n",
    "    is_coprime = True\n",
    "    for i in range(2, min(a,b)+1):\n",
    "        if a%i == 0 and b%i ==0:\n",
    "            is_coprime = False\n",
    "            break\n",
    "    return is_coprime"
   ]
  },
  {
   "cell_type": "code",
   "execution_count": null,
   "metadata": {},
   "outputs": [],
   "source": [
    "### 핵심정리\n",
    "* 파이썬에는 for와 while 루프의 내부 블록 바로 뒤에 else 블록을 사용할 수 있게 하는 특별한 문법이 있다.\n",
    "* 루프 본문이 break문을 만나지 않는 경우에만 루프 다음에 오는 else블록이 실행된다.\n",
    "* 루프 뒤에 else블록을 사용하면 직관적이지 않고 혼동하기 쉬우니 사용하지 말아야 한다."
   ]
  }
 ],
 "metadata": {
  "kernelspec": {
   "display_name": "Python 3",
   "language": "python",
   "name": "python3"
  },
  "language_info": {
   "codemirror_mode": {
    "name": "ipython",
    "version": 3
   },
   "file_extension": ".py",
   "mimetype": "text/x-python",
   "name": "python",
   "nbconvert_exporter": "python",
   "pygments_lexer": "ipython3",
   "version": "3.6.4"
  }
 },
 "nbformat": 4,
 "nbformat_minor": 2
}
